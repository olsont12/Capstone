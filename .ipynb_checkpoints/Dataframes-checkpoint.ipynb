{
 "cells": [
  {
   "cell_type": "code",
   "execution_count": 2,
   "metadata": {},
   "outputs": [],
   "source": [
    "import pandas as pd"
   ]
  },
  {
   "cell_type": "code",
   "execution_count": 35,
   "metadata": {
    "scrolled": true
   },
   "outputs": [],
   "source": [
    "spring = pd.read_html(\"https://journeynorth.org/sightings/querylist.html?map=monarch-adult-first&year=2020&season=spring\")\n",
    "spring2020 = spring[0]\n",
    "spring = pd.read_html(\"https://journeynorth.org/sightings/querylist.html?map=monarch-adult-first&year=2019&season=spring\")\n",
    "spring2019 = spring[0]\n",
    "spring = pd.read_html(\"https://journeynorth.org/sightings/querylist.html?map=monarch-adult-first&year=2018&season=spring\")\n",
    "spring2018 = spring[0]\n",
    "spring = pd.read_html(\"https://journeynorth.org/sightings/querylist.html?map=monarch-adult-first&year=2017&season=spring\")\n",
    "spring2017 = spring[0]\n",
    "spring = pd.read_html(\"https://journeynorth.org/sightings/querylist.html?map=monarch-adult-first&year=2016&season=spring\")\n",
    "spring2016 = spring[0]\n",
    "spring = pd.read_html(\"https://journeynorth.org/sightings/querylist.html?map=monarch-adult-first&year=2015&season=spring\")\n",
    "spring2015 = spring[0]\n",
    "spring = pd.read_html(\"https://journeynorth.org/sightings/querylist.html?map=monarch-adult-first&year=2014&season=spring\")\n",
    "spring2014 = spring[0]\n",
    "spring = pd.read_html(\"https://journeynorth.org/sightings/querylist.html?map=monarch-adult-first&year=2013&season=spring\")\n",
    "spring2013 = spring[0]\n",
    "spring = pd.read_html(\"https://journeynorth.org/sightings/querylist.html?map=monarch-adult-first&year=2012&season=spring\")\n",
    "spring2012 = spring[0]\n",
    "spring = pd.read_html(\"https://journeynorth.org/sightings/querylist.html?map=monarch-adult-first&year=2011&season=spring\")\n",
    "spring2011 = spring[0]"
   ]
  },
  {
   "cell_type": "code",
   "execution_count": 36,
   "metadata": {},
   "outputs": [],
   "source": [
    "spring_final_df = spring2020.append([spring2018, spring2017,spring2016, spring2015, spring2014, spring2013, spring2012, spring2011])"
   ]
  },
  {
   "cell_type": "code",
   "execution_count": 39,
   "metadata": {},
   "outputs": [],
   "source": [
    "spring_final_df['Number'] = spring_final_df['Number'].fillna(1)"
   ]
  },
  {
   "cell_type": "code",
   "execution_count": 40,
   "metadata": {},
   "outputs": [],
   "source": [
    "spring_final_df.to_csv(\"C:/Users/t_d_o/Documents/capstone/spring_final_df.csv\")"
   ]
  },
  {
   "cell_type": "code",
   "execution_count": 41,
   "metadata": {},
   "outputs": [
    {
     "data": {
      "text/html": [
       "<div>\n",
       "<style scoped>\n",
       "    .dataframe tbody tr th:only-of-type {\n",
       "        vertical-align: middle;\n",
       "    }\n",
       "\n",
       "    .dataframe tbody tr th {\n",
       "        vertical-align: top;\n",
       "    }\n",
       "\n",
       "    .dataframe thead th {\n",
       "        text-align: right;\n",
       "    }\n",
       "</style>\n",
       "<table border=\"1\" class=\"dataframe\">\n",
       "  <thead>\n",
       "    <tr style=\"text-align: right;\">\n",
       "      <th></th>\n",
       "      <th>Unnamed: 0</th>\n",
       "      <th>Date</th>\n",
       "      <th>Town</th>\n",
       "      <th>State/Province</th>\n",
       "      <th>Latitude</th>\n",
       "      <th>Longitude</th>\n",
       "      <th>Number</th>\n",
       "      <th>Image</th>\n",
       "    </tr>\n",
       "  </thead>\n",
       "  <tbody>\n",
       "    <tr>\n",
       "      <th>0</th>\n",
       "      <td>1</td>\n",
       "      <td>06/04/20</td>\n",
       "      <td>Aroda</td>\n",
       "      <td>VA</td>\n",
       "      <td>38.3</td>\n",
       "      <td>-78.2</td>\n",
       "      <td>1.0</td>\n",
       "      <td>NaN</td>\n",
       "    </tr>\n",
       "    <tr>\n",
       "      <th>1</th>\n",
       "      <td>2</td>\n",
       "      <td>06/04/20</td>\n",
       "      <td>Fort Wayne</td>\n",
       "      <td>IN</td>\n",
       "      <td>41.1</td>\n",
       "      <td>-85.1</td>\n",
       "      <td>1.0</td>\n",
       "      <td>NaN</td>\n",
       "    </tr>\n",
       "    <tr>\n",
       "      <th>2</th>\n",
       "      <td>3</td>\n",
       "      <td>06/04/20</td>\n",
       "      <td>Kenton</td>\n",
       "      <td>OH</td>\n",
       "      <td>40.6</td>\n",
       "      <td>-83.6</td>\n",
       "      <td>0.0</td>\n",
       "      <td>NaN</td>\n",
       "    </tr>\n",
       "    <tr>\n",
       "      <th>3</th>\n",
       "      <td>4</td>\n",
       "      <td>06/04/20</td>\n",
       "      <td>Minneapolis</td>\n",
       "      <td>MN</td>\n",
       "      <td>45.0</td>\n",
       "      <td>-93.4</td>\n",
       "      <td>1.0</td>\n",
       "      <td>NaN</td>\n",
       "    </tr>\n",
       "    <tr>\n",
       "      <th>4</th>\n",
       "      <td>5</td>\n",
       "      <td>06/04/20</td>\n",
       "      <td>Minneapolis</td>\n",
       "      <td>MN</td>\n",
       "      <td>44.9</td>\n",
       "      <td>-93.3</td>\n",
       "      <td>1.0</td>\n",
       "      <td>NaN</td>\n",
       "    </tr>\n",
       "    <tr>\n",
       "      <th>...</th>\n",
       "      <td>...</td>\n",
       "      <td>...</td>\n",
       "      <td>...</td>\n",
       "      <td>...</td>\n",
       "      <td>...</td>\n",
       "      <td>...</td>\n",
       "      <td>...</td>\n",
       "      <td>...</td>\n",
       "    </tr>\n",
       "    <tr>\n",
       "      <th>1141</th>\n",
       "      <td>1142</td>\n",
       "      <td>02/28/11</td>\n",
       "      <td>Boerne</td>\n",
       "      <td>TX</td>\n",
       "      <td>29.8</td>\n",
       "      <td>-98.8</td>\n",
       "      <td>1.0</td>\n",
       "      <td>NaN</td>\n",
       "    </tr>\n",
       "    <tr>\n",
       "      <th>1142</th>\n",
       "      <td>1143</td>\n",
       "      <td>02/28/11</td>\n",
       "      <td>Santee</td>\n",
       "      <td>CA</td>\n",
       "      <td>32.9</td>\n",
       "      <td>-117.0</td>\n",
       "      <td>1.0</td>\n",
       "      <td>NaN</td>\n",
       "    </tr>\n",
       "    <tr>\n",
       "      <th>1143</th>\n",
       "      <td>1144</td>\n",
       "      <td>02/27/11</td>\n",
       "      <td>Ramos Arizpe</td>\n",
       "      <td>COA</td>\n",
       "      <td>25.6</td>\n",
       "      <td>-101.0</td>\n",
       "      <td>1.0</td>\n",
       "      <td>NaN</td>\n",
       "    </tr>\n",
       "    <tr>\n",
       "      <th>1144</th>\n",
       "      <td>1145</td>\n",
       "      <td>02/22/11</td>\n",
       "      <td>Saint Petersburg</td>\n",
       "      <td>FL</td>\n",
       "      <td>27.8</td>\n",
       "      <td>-82.6</td>\n",
       "      <td>1.0</td>\n",
       "      <td>NaN</td>\n",
       "    </tr>\n",
       "    <tr>\n",
       "      <th>1145</th>\n",
       "      <td>1146</td>\n",
       "      <td>02/20/11</td>\n",
       "      <td>Saint Petersburg</td>\n",
       "      <td>FL</td>\n",
       "      <td>27.8</td>\n",
       "      <td>-82.6</td>\n",
       "      <td>1.0</td>\n",
       "      <td>NaN</td>\n",
       "    </tr>\n",
       "  </tbody>\n",
       "</table>\n",
       "<p>14277 rows × 8 columns</p>\n",
       "</div>"
      ],
      "text/plain": [
       "      Unnamed: 0      Date              Town State/Province  Latitude  \\\n",
       "0              1  06/04/20             Aroda             VA      38.3   \n",
       "1              2  06/04/20        Fort Wayne             IN      41.1   \n",
       "2              3  06/04/20            Kenton             OH      40.6   \n",
       "3              4  06/04/20       Minneapolis             MN      45.0   \n",
       "4              5  06/04/20       Minneapolis             MN      44.9   \n",
       "...          ...       ...               ...            ...       ...   \n",
       "1141        1142  02/28/11            Boerne             TX      29.8   \n",
       "1142        1143  02/28/11            Santee             CA      32.9   \n",
       "1143        1144  02/27/11      Ramos Arizpe            COA      25.6   \n",
       "1144        1145  02/22/11  Saint Petersburg             FL      27.8   \n",
       "1145        1146  02/20/11  Saint Petersburg             FL      27.8   \n",
       "\n",
       "      Longitude  Number  Image  \n",
       "0         -78.2     1.0    NaN  \n",
       "1         -85.1     1.0    NaN  \n",
       "2         -83.6     0.0    NaN  \n",
       "3         -93.4     1.0    NaN  \n",
       "4         -93.3     1.0    NaN  \n",
       "...         ...     ...    ...  \n",
       "1141      -98.8     1.0    NaN  \n",
       "1142     -117.0     1.0    NaN  \n",
       "1143     -101.0     1.0    NaN  \n",
       "1144      -82.6     1.0    NaN  \n",
       "1145      -82.6     1.0    NaN  \n",
       "\n",
       "[14277 rows x 8 columns]"
      ]
     },
     "execution_count": 41,
     "metadata": {},
     "output_type": "execute_result"
    }
   ],
   "source": [
    "spring_final_df"
   ]
  },
  {
   "cell_type": "code",
   "execution_count": null,
   "metadata": {},
   "outputs": [],
   "source": []
  },
  {
   "cell_type": "code",
   "execution_count": 44,
   "metadata": {},
   "outputs": [],
   "source": [
    "overwintering = pd.read_html(\"https://www.fws.gov/midwest/monarch/OverwinteringMonarchs.html\")\n",
    "overwintering = overwintering[0]"
   ]
  },
  {
   "cell_type": "code",
   "execution_count": 45,
   "metadata": {},
   "outputs": [],
   "source": [
    "overwintering.to_csv(\"C:/Users/t_d_o/Documents/capstone/overwintering.csv\")"
   ]
  },
  {
   "cell_type": "code",
   "execution_count": 31,
   "metadata": {},
   "outputs": [],
   "source": [
    "fall = pd.read_html(\"https://journeynorth.org/sightings/querylist.html?map=monarch-peak-migration&year=2019&season=fall\")\n",
    "fall2019 = fall[0]\n",
    "fall = pd.read_html(\"https://journeynorth.org/sightings/querylist.html?map=monarch-peak-migration&year=2018&season=fall\")\n",
    "fall2018 = fall[0]\n",
    "fall = pd.read_html(\"https://journeynorth.org/sightings/querylist.html?map=monarch-peak-migration&year=2017&season=fall\")\n",
    "fall2017 = fall[0]\n",
    "fall = pd.read_html(\"https://journeynorth.org/sightings/querylist.html?map=monarch-peak-migration&year=2016&season=fall\")\n",
    "fall2016 = fall[0]\n",
    "fall = pd.read_html(\"https://journeynorth.org/sightings/querylist.html?map=monarch-peak-migration&year=2015&season=fall\")\n",
    "fall2015 = fall[0]\n",
    "fall = pd.read_html(\"https://journeynorth.org/sightings/querylist.html?map=monarch-peak-migration&year=2014&season=fall\")\n",
    "fall2014 = fall[0]\n",
    "fall = pd.read_html(\"https://journeynorth.org/sightings/querylist.html?map=monarch-peak-migration&year=2013&season=fall\")\n",
    "fall2013 = fall[0]\n",
    "fall = pd.read_html(\"https://journeynorth.org/sightings/querylist.html?map=monarch-peak-migration&year=2012&season=fall\")\n",
    "fall2012 = fall[0]\n",
    "fall = pd.read_html(\"https://journeynorth.org/sightings/querylist.html?map=monarch-peak-migration&year=2011&season=fall\")\n",
    "fall2011 = fall[0]"
   ]
  },
  {
   "cell_type": "code",
   "execution_count": null,
   "metadata": {},
   "outputs": [],
   "source": []
  },
  {
   "cell_type": "code",
   "execution_count": 32,
   "metadata": {},
   "outputs": [],
   "source": [
    "fall_final_df = fall2019.append([fall2018, fall2017,fall2016, fall2015, fall2014, fall2013, fall2012, fall2011])"
   ]
  },
  {
   "cell_type": "code",
   "execution_count": 42,
   "metadata": {},
   "outputs": [],
   "source": [
    "fall_final_df['Number'] = fall_final_df['Number'].fillna(1)"
   ]
  },
  {
   "cell_type": "code",
   "execution_count": 43,
   "metadata": {},
   "outputs": [],
   "source": [
    "fall_final_df.to_csv(\"C:/Users/t_d_o/Documents/capstone/fall_final_df.csv\")"
   ]
  },
  {
   "cell_type": "code",
   "execution_count": null,
   "metadata": {},
   "outputs": [],
   "source": []
  }
 ],
 "metadata": {
  "kernelspec": {
   "display_name": "Python 3",
   "language": "python",
   "name": "python3"
  },
  "language_info": {
   "codemirror_mode": {
    "name": "ipython",
    "version": 3
   },
   "file_extension": ".py",
   "mimetype": "text/x-python",
   "name": "python",
   "nbconvert_exporter": "python",
   "pygments_lexer": "ipython3",
   "version": "3.7.6"
  }
 },
 "nbformat": 4,
 "nbformat_minor": 4
}
